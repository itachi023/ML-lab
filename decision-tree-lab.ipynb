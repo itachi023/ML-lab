{
 "cells": [
  {
   "cell_type": "code",
   "execution_count": 2,
   "id": "71f0e86d",
   "metadata": {},
   "outputs": [],
   "source": [
    "import pandas as pd\n",
    "from sklearn.model_selection import train_test_split\n",
    "import numpy as np\n",
    "from sklearn.tree import DecisionTreeClassifier\n",
    "from sklearn.preprocessing import LabelEncoder"
   ]
  },
  {
   "cell_type": "code",
   "execution_count": 4,
   "id": "324601ce",
   "metadata": {},
   "outputs": [
    {
     "name": "stdout",
     "output_type": "stream",
     "text": [
      "dataset\n",
      "      outlook  temp humidity  windy play\n",
      "0      sunny   hot     high  False   no\n",
      "1      sunny   hot     high   True   no\n",
      "2   overcast   hot     high  False  yes\n",
      "3      rainy  mild     high  False  yes\n",
      "4      rainy  cool   normal  False  yes\n",
      "5      rainy  cool   normal   True   no\n",
      "6   overcast  cool   normal   True  yes\n",
      "7      sunny  mild     high  False   no\n",
      "8      sunny  cool   normal  False  yes\n",
      "9      rainy  mild   normal  False  yes\n",
      "10     sunny  mild   normal   True  yes\n",
      "11  overcast  mild     high   True  yes\n",
      "12  overcast   hot   normal  False  yes\n",
      "13     rainy  mild     high   True   no\n",
      "feature_cols\n",
      " Index(['outlook', 'temp', 'humidity', 'windy', 'play'], dtype='object')\n",
      "outlook\n",
      "temp\n",
      "humidity\n",
      "windy\n",
      "play\n"
     ]
    }
   ],
   "source": [
    "dataset = pd.read_csv(\"tennis.csv\")\n",
    "print('dataset\\n',dataset)\n",
    "all_col = dataset.columns\n",
    "feature_cols = all_col[0:5]\n",
    "print('feature_cols\\n' ,feature_cols)\n",
    "\n",
    "for label in dataset.columns:\n",
    "    print(label)\n",
    "    dataset[label] = LabelEncoder().fit_transform(dataset[label])"
   ]
  },
  {
   "cell_type": "code",
   "execution_count": 9,
   "id": "8e53d8a6",
   "metadata": {},
   "outputs": [
    {
     "name": "stdout",
     "output_type": "stream",
     "text": [
      "    outlook  temp  humidity  windy\n",
      "0         2     1         0      0\n",
      "1         2     1         0      1\n",
      "2         0     1         0      0\n",
      "3         1     2         0      0\n",
      "4         1     0         1      0\n",
      "5         1     0         1      1\n",
      "6         0     0         1      1\n",
      "7         2     2         0      0\n",
      "8         2     0         1      0\n",
      "9         1     2         1      0\n",
      "10        2     2         1      1\n",
      "11        0     2         0      1\n",
      "12        0     1         1      0\n",
      "13        1     2         0      1\n",
      "[[2 1 0 0]\n",
      " [2 1 0 1]\n",
      " [0 1 0 0]\n",
      " [1 2 0 0]\n",
      " [1 0 1 0]\n",
      " [1 0 1 1]\n",
      " [0 0 1 1]\n",
      " [2 2 0 0]\n",
      " [2 0 1 0]\n",
      " [1 2 1 0]\n",
      " [2 2 1 1]\n",
      " [0 2 0 1]\n",
      " [0 1 1 0]\n",
      " [1 2 0 1]]\n"
     ]
    }
   ],
   "source": [
    "data = dataset.drop(['play'],axis=1)\n",
    "print(data)\n",
    "data = np.array(data)\n",
    "print(data)"
   ]
  },
  {
   "cell_type": "code",
   "execution_count": 10,
   "id": "989252fd",
   "metadata": {},
   "outputs": [
    {
     "name": "stdout",
     "output_type": "stream",
     "text": [
      "target\n",
      " [0 0 1 1 1 0 1 0 1 1 1 1 1 0]\n"
     ]
    }
   ],
   "source": [
    "target = np.array(dataset['play'])\n",
    "print('target\\n',target)"
   ]
  },
  {
   "cell_type": "code",
   "execution_count": 11,
   "id": "daabdd30",
   "metadata": {},
   "outputs": [],
   "source": [
    "x_train, x_test, y_train, y_test = train_test_split(data, target, test_size=0.2)"
   ]
  },
  {
   "cell_type": "code",
   "execution_count": 12,
   "id": "8a570451",
   "metadata": {},
   "outputs": [
    {
     "name": "stdout",
     "output_type": "stream",
     "text": [
      "ID3\n",
      " DecisionTreeClassifier()\n"
     ]
    }
   ],
   "source": [
    "ID3 =DecisionTreeClassifier()\n",
    "temp = ID3.fit(x_train,y_train)\n",
    "print('ID3\\n',temp)"
   ]
  },
  {
   "cell_type": "code",
   "execution_count": 13,
   "id": "e099ef43",
   "metadata": {},
   "outputs": [
    {
     "name": "stdout",
     "output_type": "stream",
     "text": [
      "actual\n",
      " [0 0 0]\n",
      "y_pred\n",
      " [0 1 1]\n"
     ]
    }
   ],
   "source": [
    "y_pred = temp.predict(x_test)\n",
    "print('actual\\n',y_test)\n",
    "print('y_pred\\n',y_pred)"
   ]
  },
  {
   "cell_type": "code",
   "execution_count": 14,
   "id": "c3403849",
   "metadata": {},
   "outputs": [
    {
     "name": "stdout",
     "output_type": "stream",
     "text": [
      "new_pred\n",
      " [0]\n"
     ]
    }
   ],
   "source": [
    "new_example = np.array(['sunny','hot','high','weak'])\n",
    "encoded = LabelEncoder().fit_transform(new_example)\n",
    "encoded = encoded.reshape(1,-1)\n",
    "new_pred = temp.predict(encoded)\n",
    "print('new_pred\\n',new_pred)"
   ]
  },
  {
   "cell_type": "code",
   "execution_count": 18,
   "id": "cae61ae0",
   "metadata": {},
   "outputs": [
    {
     "data": {
      "text/plain": [
       "0.3333333333333333"
      ]
     },
     "execution_count": 18,
     "metadata": {},
     "output_type": "execute_result"
    }
   ],
   "source": [
    "from sklearn.metrics import accuracy_score\n",
    "\n",
    "acc = accuracy_score(y_pred,y_test)\n",
    "acc"
   ]
  }
 ],
 "metadata": {
  "kernelspec": {
   "display_name": "Python 3",
   "language": "python",
   "name": "python3"
  },
  "language_info": {
   "codemirror_mode": {
    "name": "ipython",
    "version": 3
   },
   "file_extension": ".py",
   "mimetype": "text/x-python",
   "name": "python",
   "nbconvert_exporter": "python",
   "pygments_lexer": "ipython3",
   "version": "3.11.1"
  },
  "vscode": {
   "interpreter": {
    "hash": "fc058b7da0ac6bf4f0eac5d6602a78ccbd29d4b405c5579490c49f0f9ad4a44e"
   }
  }
 },
 "nbformat": 4,
 "nbformat_minor": 5
}
